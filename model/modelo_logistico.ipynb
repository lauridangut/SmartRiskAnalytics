{
 "cells": [
  {
   "cell_type": "code",
   "execution_count": 3,
   "metadata": {},
   "outputs": [],
   "source": [
    "import pandas as pd\n",
    "from sklearn.model_selection import train_test_split\n",
    "from imblearn.over_sampling import SMOTE\n",
    "from sklearn.linear_model import LogisticRegression\n",
    "from sklearn.preprocessing import OneHotEncoder\n",
    "import pickle"
   ]
  },
  {
   "cell_type": "code",
   "execution_count": 6,
   "metadata": {},
   "outputs": [],
   "source": [
    "def algoritmo():\n",
    "    # Carga del dataset de entrenamiento\n",
    "    df = pd.read_csv(\"../data/df_concat_a.csv\")\n",
    "    df = df.drop(columns=\"Unnamed: 0\")\n",
    "\n",
    "    # Definición de target y variables predictoras\n",
    "    X = df.drop(columns=[\"sk_id_curr\", \"target\"])\n",
    "    y = df[\"target\"]\n",
    "\n",
    "    # Codificación de variables categóricas\n",
    "    cat_features = X.select_dtypes(include=['object']).columns\n",
    "    encoder = OneHotEncoder(drop='first', sparse_output=False)\n",
    "    X_encoded = encoder.fit_transform(X[cat_features])\n",
    "    X_encoded = pd.DataFrame(X_encoded, columns=encoder.get_feature_names_out(cat_features))\n",
    "    X = X.drop(columns=cat_features).reset_index(drop=True)\n",
    "    X = pd.concat([X, X_encoded], axis=1)\n",
    "\n",
    "    # Oversampling\n",
    "    smote = SMOTE(random_state=16)\n",
    "    X_balanced, y_balanced = smote.fit_resample(X, y)\n",
    "\n",
    "    # División de los datos en train y test\n",
    "    X_train, X_test, y_train, y_test = train_test_split(\n",
    "        X_balanced, y_balanced, test_size=0.20, random_state=16)\n",
    "\n",
    "    # Instancia regresión logística y ajuste\n",
    "    reg = LogisticRegression(max_iter=1000).fit(X_train, y_train)\n",
    "\n",
    "    return reg, encoder\n",
    "\n",
    "# Entrenamiento del modelo y codificador\n",
    "modelo, encoder = algoritmo()\n",
    "\n",
    "# Guardado del modelo y codificador en archivos pickle\n",
    "with open('modelo_logistico.pkl', 'wb') as model_file:\n",
    "    pickle.dump(modelo, model_file)\n",
    "\n",
    "with open('encoder.pkl', 'wb') as encoder_file:\n",
    "    pickle.dump(encoder, encoder_file)"
   ]
  }
 ],
 "metadata": {
  "kernelspec": {
   "display_name": "smartrisk",
   "language": "python",
   "name": "python3"
  },
  "language_info": {
   "codemirror_mode": {
    "name": "ipython",
    "version": 3
   },
   "file_extension": ".py",
   "mimetype": "text/x-python",
   "name": "python",
   "nbconvert_exporter": "python",
   "pygments_lexer": "ipython3",
   "version": "3.11.9"
  }
 },
 "nbformat": 4,
 "nbformat_minor": 2
}
