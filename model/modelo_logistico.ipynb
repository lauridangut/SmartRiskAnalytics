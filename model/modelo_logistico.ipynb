{
 "cells": [
  {
   "cell_type": "code",
   "execution_count": 1,
   "metadata": {},
   "outputs": [],
   "source": [
    "import pandas as pd\n",
    "from sklearn.model_selection import train_test_split\n",
    "from imblearn.over_sampling import SMOTE\n",
    "from sklearn.linear_model import LogisticRegression\n",
    "import pickle"
   ]
  },
  {
   "cell_type": "code",
   "execution_count": 2,
   "metadata": {},
   "outputs": [],
   "source": [
    "\n",
    "def algoritmo():\n",
    "    # Carga del dataset de entrenamiento\n",
    "    df = pd.read_csv(\"../data/df_concat_a.csv\")\n",
    "    df = df.drop(columns=\"Unnamed: 0\")\n",
    "\n",
    "    # Oversampling\n",
    "    smote = SMOTE(random_state=16)\n",
    "\n",
    "    # Definición de target y variables predictoras\n",
    "    X = df.drop(columns=[\"sk_id_curr\", \"target\"])\n",
    "    y = df[\"target\"]\n",
    "\n",
    "    # Balance de clases\n",
    "    X_balanced, y_balanced = smote.fit_resample(X, y)\n",
    "\n",
    "    # División de los datos en train y test\n",
    "    X_train, X_test, y_train, y_test = train_test_split(\n",
    "        X_balanced, y_balanced, test_size=0.20, random_state=16)\n",
    "\n",
    "    # Instancia regresión logística y ajuste\n",
    "    reg = LogisticRegression(max_iter=1000).fit(X_train, y_train)\n",
    "\n",
    "    return reg\n",
    "\n",
    "# Entrenamiento del modelo\n",
    "modelo = algoritmo()\n",
    "\n",
    "# Guardado del modelo en un archivo pickle\n",
    "with open('modelo_logistico.pkl', 'wb') as file:\n",
    "    pickle.dump(modelo, file)\n"
   ]
  },
  {
   "cell_type": "code",
   "execution_count": null,
   "metadata": {},
   "outputs": [],
   "source": []
  }
 ],
 "metadata": {
  "kernelspec": {
   "display_name": "smartrisk",
   "language": "python",
   "name": "python3"
  },
  "language_info": {
   "codemirror_mode": {
    "name": "ipython",
    "version": 3
   },
   "file_extension": ".py",
   "mimetype": "text/x-python",
   "name": "python",
   "nbconvert_exporter": "python",
   "pygments_lexer": "ipython3",
   "version": "3.11.9"
  }
 },
 "nbformat": 4,
 "nbformat_minor": 2
}
